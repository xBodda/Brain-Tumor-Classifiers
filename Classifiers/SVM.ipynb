{
  "cells": [
    {
      "cell_type": "code",
      "execution_count": 1,
      "metadata": {
        "id": "_z5MNMAC3YLF"
      },
      "outputs": [],
      "source": [
        "import numpy as np\n",
        "import matplotlib.pyplot as plt\n",
        "import pandas as pd\n",
        "import matplotlib.patches as mpatches"
      ]
    },
    {
      "cell_type": "code",
      "execution_count": 2,
      "metadata": {},
      "outputs": [
        {
          "data": {
            "text/html": [
              "<div>\n",
              "<style scoped>\n",
              "    .dataframe tbody tr th:only-of-type {\n",
              "        vertical-align: middle;\n",
              "    }\n",
              "\n",
              "    .dataframe tbody tr th {\n",
              "        vertical-align: top;\n",
              "    }\n",
              "\n",
              "    .dataframe thead th {\n",
              "        text-align: right;\n",
              "    }\n",
              "</style>\n",
              "<table border=\"1\" class=\"dataframe\">\n",
              "  <thead>\n",
              "    <tr style=\"text-align: right;\">\n",
              "      <th></th>\n",
              "      <th>Image</th>\n",
              "      <th>Class</th>\n",
              "      <th>Mean</th>\n",
              "      <th>Variance</th>\n",
              "      <th>Standard Deviation</th>\n",
              "      <th>Entropy</th>\n",
              "      <th>Skewness</th>\n",
              "      <th>Kurtosis</th>\n",
              "      <th>Contrast</th>\n",
              "      <th>Energy</th>\n",
              "      <th>ASM</th>\n",
              "      <th>Homogeneity</th>\n",
              "      <th>Dissimilarity</th>\n",
              "      <th>Correlation</th>\n",
              "      <th>Coarseness</th>\n",
              "    </tr>\n",
              "  </thead>\n",
              "  <tbody>\n",
              "    <tr>\n",
              "      <th>0</th>\n",
              "      <td>Image1</td>\n",
              "      <td>0</td>\n",
              "      <td>6.535339</td>\n",
              "      <td>619.587845</td>\n",
              "      <td>24.891522</td>\n",
              "      <td>0.109059</td>\n",
              "      <td>4.276477</td>\n",
              "      <td>18.900575</td>\n",
              "      <td>98.613971</td>\n",
              "      <td>0.293314</td>\n",
              "      <td>0.086033</td>\n",
              "      <td>0.530941</td>\n",
              "      <td>4.473346</td>\n",
              "      <td>0.981939</td>\n",
              "      <td>7.460000e-155</td>\n",
              "    </tr>\n",
              "    <tr>\n",
              "      <th>1</th>\n",
              "      <td>Image2</td>\n",
              "      <td>0</td>\n",
              "      <td>8.749969</td>\n",
              "      <td>805.957634</td>\n",
              "      <td>28.389393</td>\n",
              "      <td>0.266538</td>\n",
              "      <td>3.718116</td>\n",
              "      <td>14.464618</td>\n",
              "      <td>63.858816</td>\n",
              "      <td>0.475051</td>\n",
              "      <td>0.225674</td>\n",
              "      <td>0.651352</td>\n",
              "      <td>3.220072</td>\n",
              "      <td>0.988834</td>\n",
              "      <td>7.460000e-155</td>\n",
              "    </tr>\n",
              "    <tr>\n",
              "      <th>2</th>\n",
              "      <td>Image3</td>\n",
              "      <td>1</td>\n",
              "      <td>7.341095</td>\n",
              "      <td>1143.808219</td>\n",
              "      <td>33.820234</td>\n",
              "      <td>0.001467</td>\n",
              "      <td>5.061750</td>\n",
              "      <td>26.479563</td>\n",
              "      <td>81.867206</td>\n",
              "      <td>0.031917</td>\n",
              "      <td>0.001019</td>\n",
              "      <td>0.268275</td>\n",
              "      <td>5.981800</td>\n",
              "      <td>0.978014</td>\n",
              "      <td>7.460000e-155</td>\n",
              "    </tr>\n",
              "    <tr>\n",
              "      <th>3</th>\n",
              "      <td>Image4</td>\n",
              "      <td>1</td>\n",
              "      <td>5.958145</td>\n",
              "      <td>959.711985</td>\n",
              "      <td>30.979219</td>\n",
              "      <td>0.001477</td>\n",
              "      <td>5.677977</td>\n",
              "      <td>33.428845</td>\n",
              "      <td>151.229741</td>\n",
              "      <td>0.032024</td>\n",
              "      <td>0.001026</td>\n",
              "      <td>0.243851</td>\n",
              "      <td>7.700919</td>\n",
              "      <td>0.964189</td>\n",
              "      <td>7.460000e-155</td>\n",
              "    </tr>\n",
              "    <tr>\n",
              "      <th>4</th>\n",
              "      <td>Image5</td>\n",
              "      <td>0</td>\n",
              "      <td>7.315231</td>\n",
              "      <td>729.540579</td>\n",
              "      <td>27.010009</td>\n",
              "      <td>0.146761</td>\n",
              "      <td>4.283221</td>\n",
              "      <td>19.079108</td>\n",
              "      <td>174.988756</td>\n",
              "      <td>0.343849</td>\n",
              "      <td>0.118232</td>\n",
              "      <td>0.501140</td>\n",
              "      <td>6.834689</td>\n",
              "      <td>0.972789</td>\n",
              "      <td>7.460000e-155</td>\n",
              "    </tr>\n",
              "    <tr>\n",
              "      <th>...</th>\n",
              "      <td>...</td>\n",
              "      <td>...</td>\n",
              "      <td>...</td>\n",
              "      <td>...</td>\n",
              "      <td>...</td>\n",
              "      <td>...</td>\n",
              "      <td>...</td>\n",
              "      <td>...</td>\n",
              "      <td>...</td>\n",
              "      <td>...</td>\n",
              "      <td>...</td>\n",
              "      <td>...</td>\n",
              "      <td>...</td>\n",
              "      <td>...</td>\n",
              "      <td>...</td>\n",
              "    </tr>\n",
              "    <tr>\n",
              "      <th>3757</th>\n",
              "      <td>Image3758</td>\n",
              "      <td>0</td>\n",
              "      <td>21.234512</td>\n",
              "      <td>1208.850174</td>\n",
              "      <td>34.768523</td>\n",
              "      <td>0.063774</td>\n",
              "      <td>2.082079</td>\n",
              "      <td>4.647310</td>\n",
              "      <td>158.437600</td>\n",
              "      <td>0.220666</td>\n",
              "      <td>0.048693</td>\n",
              "      <td>0.487131</td>\n",
              "      <td>5.211739</td>\n",
              "      <td>0.950972</td>\n",
              "      <td>7.460000e-155</td>\n",
              "    </tr>\n",
              "    <tr>\n",
              "      <th>3758</th>\n",
              "      <td>Image3759</td>\n",
              "      <td>0</td>\n",
              "      <td>20.435349</td>\n",
              "      <td>1227.151440</td>\n",
              "      <td>35.030721</td>\n",
              "      <td>0.066763</td>\n",
              "      <td>2.144625</td>\n",
              "      <td>4.882034</td>\n",
              "      <td>161.158675</td>\n",
              "      <td>0.225931</td>\n",
              "      <td>0.051045</td>\n",
              "      <td>0.502712</td>\n",
              "      <td>5.083126</td>\n",
              "      <td>0.952749</td>\n",
              "      <td>7.460000e-155</td>\n",
              "    </tr>\n",
              "    <tr>\n",
              "      <th>3759</th>\n",
              "      <td>Image3760</td>\n",
              "      <td>0</td>\n",
              "      <td>18.011520</td>\n",
              "      <td>1151.582765</td>\n",
              "      <td>33.934978</td>\n",
              "      <td>0.068396</td>\n",
              "      <td>2.308349</td>\n",
              "      <td>5.579498</td>\n",
              "      <td>167.130118</td>\n",
              "      <td>0.228930</td>\n",
              "      <td>0.052409</td>\n",
              "      <td>0.492269</td>\n",
              "      <td>5.103700</td>\n",
              "      <td>0.952181</td>\n",
              "      <td>7.460000e-155</td>\n",
              "    </tr>\n",
              "    <tr>\n",
              "      <th>3760</th>\n",
              "      <td>Image3761</td>\n",
              "      <td>0</td>\n",
              "      <td>13.330429</td>\n",
              "      <td>945.732779</td>\n",
              "      <td>30.752769</td>\n",
              "      <td>0.087872</td>\n",
              "      <td>2.732822</td>\n",
              "      <td>7.757570</td>\n",
              "      <td>223.812932</td>\n",
              "      <td>0.261527</td>\n",
              "      <td>0.068397</td>\n",
              "      <td>0.480064</td>\n",
              "      <td>6.439784</td>\n",
              "      <td>0.940898</td>\n",
              "      <td>7.460000e-155</td>\n",
              "    </tr>\n",
              "    <tr>\n",
              "      <th>3761</th>\n",
              "      <td>Image3762</td>\n",
              "      <td>0</td>\n",
              "      <td>6.110138</td>\n",
              "      <td>480.884025</td>\n",
              "      <td>21.929068</td>\n",
              "      <td>0.118171</td>\n",
              "      <td>4.110669</td>\n",
              "      <td>17.538826</td>\n",
              "      <td>239.251388</td>\n",
              "      <td>0.306224</td>\n",
              "      <td>0.093773</td>\n",
              "      <td>0.494333</td>\n",
              "      <td>6.787329</td>\n",
              "      <td>0.938731</td>\n",
              "      <td>7.460000e-155</td>\n",
              "    </tr>\n",
              "  </tbody>\n",
              "</table>\n",
              "<p>3762 rows × 15 columns</p>\n",
              "</div>"
            ],
            "text/plain": [
              "          Image  Class       Mean     Variance  Standard Deviation   Entropy  \\\n",
              "0        Image1      0   6.535339   619.587845           24.891522  0.109059   \n",
              "1        Image2      0   8.749969   805.957634           28.389393  0.266538   \n",
              "2        Image3      1   7.341095  1143.808219           33.820234  0.001467   \n",
              "3        Image4      1   5.958145   959.711985           30.979219  0.001477   \n",
              "4        Image5      0   7.315231   729.540579           27.010009  0.146761   \n",
              "...         ...    ...        ...          ...                 ...       ...   \n",
              "3757  Image3758      0  21.234512  1208.850174           34.768523  0.063774   \n",
              "3758  Image3759      0  20.435349  1227.151440           35.030721  0.066763   \n",
              "3759  Image3760      0  18.011520  1151.582765           33.934978  0.068396   \n",
              "3760  Image3761      0  13.330429   945.732779           30.752769  0.087872   \n",
              "3761  Image3762      0   6.110138   480.884025           21.929068  0.118171   \n",
              "\n",
              "      Skewness   Kurtosis    Contrast    Energy       ASM  Homogeneity  \\\n",
              "0     4.276477  18.900575   98.613971  0.293314  0.086033     0.530941   \n",
              "1     3.718116  14.464618   63.858816  0.475051  0.225674     0.651352   \n",
              "2     5.061750  26.479563   81.867206  0.031917  0.001019     0.268275   \n",
              "3     5.677977  33.428845  151.229741  0.032024  0.001026     0.243851   \n",
              "4     4.283221  19.079108  174.988756  0.343849  0.118232     0.501140   \n",
              "...        ...        ...         ...       ...       ...          ...   \n",
              "3757  2.082079   4.647310  158.437600  0.220666  0.048693     0.487131   \n",
              "3758  2.144625   4.882034  161.158675  0.225931  0.051045     0.502712   \n",
              "3759  2.308349   5.579498  167.130118  0.228930  0.052409     0.492269   \n",
              "3760  2.732822   7.757570  223.812932  0.261527  0.068397     0.480064   \n",
              "3761  4.110669  17.538826  239.251388  0.306224  0.093773     0.494333   \n",
              "\n",
              "      Dissimilarity  Correlation     Coarseness  \n",
              "0          4.473346     0.981939  7.460000e-155  \n",
              "1          3.220072     0.988834  7.460000e-155  \n",
              "2          5.981800     0.978014  7.460000e-155  \n",
              "3          7.700919     0.964189  7.460000e-155  \n",
              "4          6.834689     0.972789  7.460000e-155  \n",
              "...             ...          ...            ...  \n",
              "3757       5.211739     0.950972  7.460000e-155  \n",
              "3758       5.083126     0.952749  7.460000e-155  \n",
              "3759       5.103700     0.952181  7.460000e-155  \n",
              "3760       6.439784     0.940898  7.460000e-155  \n",
              "3761       6.787329     0.938731  7.460000e-155  \n",
              "\n",
              "[3762 rows x 15 columns]"
            ]
          },
          "execution_count": 2,
          "metadata": {},
          "output_type": "execute_result"
        }
      ],
      "source": [
        "dataset = pd.read_csv('../Dataset/BrainTumor.csv')\n",
        "dataset"
      ]
    },
    {
      "cell_type": "code",
      "execution_count": 3,
      "metadata": {},
      "outputs": [],
      "source": [
        "X = dataset.iloc[:, [8, 9]].values\n",
        "# , 4, 5, 6, 7, 8, 9, 10, 11, 12, 13, 14\n",
        "y = dataset.iloc[:, 1].values"
      ]
    },
    {
      "cell_type": "code",
      "execution_count": 4,
      "metadata": {},
      "outputs": [],
      "source": [
        "from sklearn.model_selection import train_test_split\n",
        "X_train, X_test, y_train, y_test = train_test_split(X, y, test_size = 0.25, random_state = 0)"
      ]
    },
    {
      "cell_type": "code",
      "execution_count": 5,
      "metadata": {},
      "outputs": [],
      "source": [
        "from sklearn.preprocessing import StandardScaler\n",
        "sc = StandardScaler()\n",
        "X_train = sc.fit_transform(X_train)\n",
        "X_test = sc.transform(X_test)"
      ]
    },
    {
      "cell_type": "code",
      "execution_count": 6,
      "metadata": {},
      "outputs": [
        {
          "data": {
            "text/plain": [
              "SVC(random_state=0)"
            ]
          },
          "execution_count": 6,
          "metadata": {},
          "output_type": "execute_result"
        }
      ],
      "source": [
        "from sklearn.svm import SVC\n",
        "classifier = SVC(kernel = 'rbf', random_state = 0)\n",
        "classifier.fit(X_train, y_train)"
      ]
    },
    {
      "cell_type": "code",
      "execution_count": 7,
      "metadata": {},
      "outputs": [],
      "source": [
        "y_pred = classifier.predict(X_test)"
      ]
    },
    {
      "cell_type": "code",
      "execution_count": 10,
      "metadata": {},
      "outputs": [
        {
          "name": "stdout",
          "output_type": "stream",
          "text": [
            "              precision    recall  f1-score   support\n",
            "\n",
            "           0       0.96      0.98      0.97       507\n",
            "           1       0.98      0.95      0.97       434\n",
            "\n",
            "    accuracy                           0.97       941\n",
            "   macro avg       0.97      0.97      0.97       941\n",
            "weighted avg       0.97      0.97      0.97       941\n",
            "\n"
          ]
        },
        {
          "data": {
            "image/png": "[encoded data removed]",
            "text/plain": [
              "<Figure size 432x288 with 2 Axes>"
            ]
          },
          "metadata": {
            "needs_background": "light"
          },
          "output_type": "display_data"
        }
      ],
      "source": [
        "from sklearn.metrics import confusion_matrix, classification_report, ConfusionMatrixDisplay\n",
        "class_names=np.array(['0','1'])\n",
        "cm = confusion_matrix(y_test, y_pred)\n",
        "ConfusionMatrixDisplay.from_predictions(y_test, y_pred)\n",
        "print(classification_report(y_test, y_pred))"
      ]
    },
    {
      "cell_type": "code",
      "execution_count": null,
      "metadata": {},
      "outputs": [
        {
          "name": "stderr",
          "output_type": "stream",
          "text": [
            "*c* argument looks like a single numeric RGB or RGBA sequence, which should be avoided as value-mapping will have precedence in case its length matches with *x* & *y*.  Please use the *color* keyword-argument or provide a 2D array with a single row if you intend to specify the same RGB or RGBA value for all points.\n",
            "*c* argument looks like a single numeric RGB or RGBA sequence, which should be avoided as value-mapping will have precedence in case its length matches with *x* & *y*.  Please use the *color* keyword-argument or provide a 2D array with a single row if you intend to specify the same RGB or RGBA value for all points.\n"
          ]
        },
        {
          "data": {
            "image/png": "[encoded data removed]",
            "text/plain": [
              "<Figure size 432x288 with 1 Axes>"
            ]
          },
          "metadata": {
            "needs_background": "light"
          },
          "output_type": "display_data"
        }
      ],
      "source": [
        "from matplotlib.colors import ListedColormap\n",
        "X_set, y_set = X_test, y_test\n",
        "X1, X2 = np.meshgrid(np.arange(start = X_set[:, 0].min() - 1, stop = X_set[:, 0].max() + 1, step = 0.01),\n",
        "                     np.arange(start = X_set[:, 1].min() - 1, stop = X_set[:, 1].max() + 1, step = 0.01))\n",
        "plt.contourf(X1, X2, classifier.predict(np.array([X1.ravel(), X2.ravel()]).T).reshape(X1.shape),\n",
        "             alpha = 0.75, cmap = ListedColormap(('red', 'green')))\n",
        "plt.xlim(X1.min(), X1.max())\n",
        "plt.ylim(X2.min(), X2.max())\n",
        "for i, j in enumerate(np.unique(y_set)):\n",
        "    plt.scatter(X_set[y_set == j, 0], X_set[y_set == j, 1],c = ListedColormap(('red', 'green'))(i), label = j)\n",
        "plt.title('SVM Brain Tumor Classification')\n",
        "plt.xlabel('Contrast')\n",
        "plt.ylabel('Energy')\n",
        "plt.legend()\n",
        "plt.show()"
      ]
    }
  ],
  "metadata": {
    "colab": {
      "collapsed_sections": [],
      "name": "SVM.ipynb",
      "provenance": []
    },
    "kernelspec": {
      "display_name": "Python 3",
      "name": "python3"
    },
    "language_info": {
      "codemirror_mode": {
        "name": "ipython",
        "version": 3
      },
      "file_extension": ".py",
      "mimetype": "text/x-python",
      "name": "python",
      "nbconvert_exporter": "python",
      "pygments_lexer": "ipython3",
      "version": "3.9.2"
    }
  },
  "nbformat": 4,
  "nbformat_minor": 0
}
